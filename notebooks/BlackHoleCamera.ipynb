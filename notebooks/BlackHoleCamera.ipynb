{
 "cells": [
  {
   "cell_type": "markdown",
   "metadata": {},
   "source": [
    "# 計算物理３ 自由課題 : BlackHoleCamera"
   ]
  },
  {
   "cell_type": "code",
   "execution_count": 1,
   "metadata": {},
   "outputs": [],
   "source": [
    "%matplotlib inline\n",
    "import pandas as pd\n",
    "import numpy as np\n",
    "import matplotlib.pyplot as plt\n",
    "import matplotlib.patches as pat\n",
    "import seaborn as sns\n",
    "from mpl_toolkits.mplot3d import Axes3D\n",
    "\n",
    "color_cycle = plt.rcParams['axes.prop_cycle'].by_key()['color']"
   ]
  },
  {
   "cell_type": "code",
   "execution_count": 12,
   "metadata": {},
   "outputs": [],
   "source": [
    "def bh_plt(filename, a):\n",
    "    df_data = pd.read_csv(filename, names=(\"r\",\"theta\",\"phi\"))\n",
    "    df_data = pd.DataFrame(df_data.query(\"theta > 1.56 and theta < 1.58\"))\n",
    "    \n",
    "    fig = plt.figure(figsize=(8, 8))\n",
    "    ax = fig.add_subplot(111)\n",
    "\n",
    "    c1 = pat.Circle(xy=(0, 0), radius=2.0, fc='black', ec='black')\n",
    "    c2 = pat.Circle(xy=(0, 0), radius=3.5, ec='black', fill=False, linestyle='dashed')\n",
    "    ax.add_patch(c1)\n",
    "    ax.add_patch(c2)\n",
    "\n",
    "    r = np.sqrt(df_data['r']*df_data['r'] + a*a)\n",
    "    ax.scatter(x = r * np.sin(df_data['theta']) * np.cos(df_data['phi']),\n",
    "                y = r * np.sin(df_data['theta']) * np.sin(df_data['phi']), \n",
    "                s = 0.8,\n",
    "                c = color_cycle[4])\n",
    "\n",
    "    ax.set_title('The light orbits around a Kerr BH\\n'\\\n",
    "                     '(Schwarzschild radius $r_s = 1.0$), L/M = 0.998')\n",
    "    ax.set_xlabel('$x \\, / \\, r_s$')\n",
    "    ax.yaxis.tick_right()\n",
    "    ax.yaxis.set_label_position('right')\n",
    "    ax.set_ylabel('$y \\, / \\, r_s$')\n",
    "    ax.set_xlim([-10, 10])\n",
    "    ax.set_ylim([-10, 10])\n",
    "    ax.grid(True)\n",
    "    \n",
    "bh_plt(\"../data/output11.csv\", 0.998)\n",
    "bh_plt(\"../data/output12.csv\", 0.998)"
   ]
  },
  {
   "cell_type": "code",
   "execution_count": 4,
   "metadata": {},
   "outputs": [
    {
     "data": {
      "image/png": "[encoded data removed]",
      "text/plain": [
       "<Figure size 1008x864 with 2 Axes>"
      ]
     },
     "metadata": {
      "needs_background": "light"
     },
     "output_type": "display_data"
    }
   ],
   "source": [
    "filename = \"../data/output.csv\"\n",
    "\n",
    "fig = plt.figure(figsize=(14, 12))\n",
    "ax = fig.add_subplot(111)\n",
    "\n",
    "df = pd.read_csv(filename, names=(\"i\", \"j\", \"intensity\"))\n",
    "df[\"intensity\"] = df[\"intensity\"]/df[\"intensity\"].max()\n",
    "df = df.pivot(index='j', columns='i', values='intensity')\n",
    "\n",
    "sns.heatmap(df, square=True, vmax=1, vmin=0)\n",
    "plt.savefig(\"a0.png\", format=\"png\", dpi=200)"
   ]
  }
 ],
 "metadata": {
  "kernelspec": {
   "display_name": "Python 3",
   "language": "python",
   "name": "python3"
  },
  "language_info": {
   "codemirror_mode": {
    "name": "ipython",
    "version": 3
   },
   "file_extension": ".py",
   "mimetype": "text/x-python",
   "name": "python",
   "nbconvert_exporter": "python",
   "pygments_lexer": "ipython3",
   "version": "3.7.6"
  }
 },
 "nbformat": 4,
 "nbformat_minor": 2
}
